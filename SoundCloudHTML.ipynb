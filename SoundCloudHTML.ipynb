{
 "cells": [
  {
   "cell_type": "code",
   "execution_count": 1,
   "id": "eca4eca5",
   "metadata": {},
   "outputs": [],
   "source": [
    "import requests\n",
    "import requests_cache\n",
    "from bs4 import BeautifulSoup\n",
    "import time\n",
    "import json\n",
    "import re\n",
    "import pandas as pd # Dùng để đọc và hiển thị file csv/tsv\n",
    "from selenium import webdriver\n",
    "from selenium.webdriver.common.keys import Keys\n",
    "from selenium.webdriver.common.by import By\n",
    "from requests_html import HTML"
   ]
  },
  {
   "cell_type": "code",
   "execution_count": 2,
   "id": "6d18623a",
   "metadata": {},
   "outputs": [],
   "source": [
    "def filter_by_response(response) -> bool:\n",
    "    return ('\\\"incomplete_results\\\":true' not in response.text)\n",
    "requests_cache.install_cache(expire_after=None, filter_fn=filter_by_response)"
   ]
  },
  {
   "cell_type": "markdown",
   "id": "d0a0d411-7e76-4fce-aa34-86705bb293b8",
   "metadata": {},
   "source": [
    "________________________________________"
   ]
  },
  {
   "cell_type": "markdown",
   "id": "b303b47b-d236-4fb5-a53f-9d360cc89129",
   "metadata": {},
   "source": [
    "**Lấy tất cả tracks của một user**"
   ]
  },
  {
   "cell_type": "markdown",
   "id": "4d0c230d",
   "metadata": {},
   "source": [
    "Khởi tạo các list để lưu trữ các user, track, playlist."
   ]
  },
  {
   "cell_type": "code",
   "execution_count": 3,
   "id": "a86ee691",
   "metadata": {},
   "outputs": [],
   "source": [
    "users = []\n",
    "tracks = []\n",
    "playlists = []"
   ]
  },
  {
   "cell_type": "markdown",
   "id": "08f0cd6c",
   "metadata": {},
   "source": [
    "Bắt đầu parse SoundCloud bằng trang Discover của SoundCloud vì trang này có nhiều playlists và trong đó có rất nhiều users và tracks thuận tiện cho việc parsing."
   ]
  },
  {
   "cell_type": "code",
   "execution_count": 4,
   "id": "efaa3cc4-9202-44d8-af16-e9921ab620d7",
   "metadata": {},
   "outputs": [],
   "source": [
    "url = \"https://soundcloud.com/discover\""
   ]
  },
  {
   "cell_type": "markdown",
   "id": "87c755a6",
   "metadata": {},
   "source": [
    "Mở Chrome bằng webdriver và vào trang Discover của SoundCloud"
   ]
  },
  {
   "cell_type": "code",
   "execution_count": 5,
   "id": "83f94c9f-8a21-4e34-b9bf-5ec2f3852861",
   "metadata": {},
   "outputs": [],
   "source": [
    "browser = webdriver.Chrome()\n",
    "browser.get(url)"
   ]
  },
  {
   "cell_type": "code",
   "execution_count": 6,
   "id": "3db69f4e-ac5d-4f39-b1e2-2a88c78b5a8b",
   "metadata": {},
   "outputs": [],
   "source": [
    "soup = BeautifulSoup(browser.page_source)"
   ]
  },
  {
   "cell_type": "markdown",
   "id": "9891b601",
   "metadata": {},
   "source": [
    "Đồng ý Cookies"
   ]
  },
  {
   "cell_type": "code",
   "execution_count": 7,
   "id": "ac08680b",
   "metadata": {},
   "outputs": [],
   "source": [
    "cookies = browser.find_element(By.XPATH,\"//button[@id='onetrust-accept-btn-handler']\")\n",
    "cookies.click()"
   ]
  },
  {
   "cell_type": "code",
   "execution_count": 8,
   "id": "537f96b2",
   "metadata": {},
   "outputs": [],
   "source": [
    "# Chọn một tab genre (demo)\n",
    "time.sleep(2)\n",
    "genre = browser.find_element(By.XPATH,\"//a[@class='playableTile__heading playableTile__mainHeading sc-truncate sc-type-light sc-text-secondary sc-font-light sc-link-dark sc-link-primary sc-text-h4']\")\n",
    "genre.click()"
   ]
  },
  {
   "cell_type": "markdown",
   "id": "16f8fc84",
   "metadata": {},
   "source": [
    "Hàm click_till_end sử dụng để click vào button đến khi không còn để click.\n",
    "Bởi vì trong trang Discover, sẽ bao gồm rất nhiều nhóm playlist có cùng thể loại (vd: Top 50, New & Hot, Study, v.v).\n",
    "Mỗi nhóm có nhiều playlist khác nhau nên sẽ có 1 button (có hình mũi tên) khi nhấn vào sẽ chuyển qua các playlist khác."
   ]
  },
  {
   "cell_type": "code",
   "execution_count": null,
   "id": "7c169867",
   "metadata": {},
   "outputs": [],
   "source": [
    "# test not done\n",
    "def click_till_end():\n",
    "    while True:\n",
    "        elm = browser.find_element_by_tag_name('button')\n",
    "        if 'inactive' in elm.get_attribute('class'):\n",
    "            break;\n",
    "        elm.click()"
   ]
  },
  {
   "cell_type": "markdown",
   "id": "93d466af",
   "metadata": {},
   "source": [
    "Hàm scroll_down_till_end sử dụng để scroll trang xuống hết mức có thể.\n",
    "Khi vào 1 trang (vd: trang Profile của 1 user), ta chỉ xem được 1 phần đầu của trang đó.\n",
    "Khi scroll xuống sẽ xuất hiện thêm thông tin để ta parse."
   ]
  },
  {
   "cell_type": "code",
   "execution_count": 9,
   "id": "1cbc48ec",
   "metadata": {},
   "outputs": [],
   "source": [
    "# nên check lại bởi vì vài lần chưa scroll hết :<\n",
    "def scroll_down_till_end():\n",
    "    # Loop 2 lần cho chắc ăn (có thể cho 3 lần)\n",
    "    for i in range(2):\n",
    "        lenOfPage = browser.execute_script(\"window.scrollTo(0, document.body.scrollHeight);var lenOfPage=document.body.scrollHeight;return lenOfPage;\")\n",
    "        lastCount = 0\n",
    "        match = False\n",
    "        \n",
    "        while(match == False):\n",
    "            time.sleep(3)\n",
    "            lenOfPage = browser.execute_script(\"window.scrollTo(0, document.body.scrollHeight);var lenOfPage=document.body.scrollHeight;return lenOfPage;\")\n",
    "            if lastCount == lenOfPage: \n",
    "                match = True\n",
    "            else: lastCount = lenOfPage"
   ]
  },
  {
   "cell_type": "markdown",
   "id": "d7894450",
   "metadata": {},
   "source": [
    "Hàm collect_tracks_playlist sử dụng để lấy hết tất cả track và user có trong 1 playlist."
   ]
  },
  {
   "cell_type": "code",
   "execution_count": 10,
   "id": "653af3f9",
   "metadata": {},
   "outputs": [],
   "source": [
    "def collect_tracks_playlist():\n",
    "    scroll_down_till_end()\n",
    "    \n",
    "    time.sleep(2)\n",
    "    soup = BeautifulSoup(browser.page_source)\n",
    "    \n",
    "    posts = soup.find_all(\"div\", \"trackItem__content\")\n",
    "\n",
    "    for post in posts:\n",
    "        user = post.find(\"a\", \"trackItem__username\").get_text()\n",
    "        # kiểm tra có bị trùng\n",
    "        if user not in users:\n",
    "            users.append(user)\n",
    "\n",
    "        track = post.find(\"a\", \"trackItem__trackTitle\").get_text()\n",
    "        # kiểm tra có bị trùng\n",
    "        if track not in tracks:\n",
    "            tracks.append(track)"
   ]
  },
  {
   "cell_type": "markdown",
   "id": "e888fbe9",
   "metadata": {},
   "source": [
    "Hàm collect_tracks_user_profile sử dụng để lấy tất cả track của user đó."
   ]
  },
  {
   "cell_type": "code",
   "execution_count": 11,
   "id": "18f72304-54bb-450e-8e90-6fa8a0be444b",
   "metadata": {},
   "outputs": [],
   "source": [
    "def collect_tracks_user_profile():\n",
    "    scroll_down_till_end()\n",
    "            \n",
    "    time.sleep(3)\n",
    "    soup = BeautifulSoup(browser.page_source)\n",
    "    \n",
    "    songs = soup.find_all(\"li\", \"soundList__item\")\n",
    "    \n",
    "    for track in songs:\n",
    "        title = track.find(\"a\", \"soundTitle__title\").get_text().strip()\n",
    "        # kiểm tra có bị trùng\n",
    "        if title not in tracks:\n",
    "            tracks.append(title)"
   ]
  },
  {
   "cell_type": "code",
   "execution_count": 12,
   "id": "ff2d879a",
   "metadata": {},
   "outputs": [],
   "source": [
    "collect_tracks_playlist()"
   ]
  },
  {
   "cell_type": "code",
   "execution_count": 13,
   "id": "f5f1163b",
   "metadata": {},
   "outputs": [],
   "source": [
    "time.sleep(2)\n",
    "profile = browser.find_element(By.XPATH,\"//a[@class='trackItem__username sc-link-light sc-link-secondary']\")\n",
    "profile.click()"
   ]
  },
  {
   "cell_type": "code",
   "execution_count": 20,
   "id": "bbffe295",
   "metadata": {},
   "outputs": [],
   "source": [
    "collect_tracks_user_profile()"
   ]
  },
  {
   "cell_type": "code",
   "execution_count": 23,
   "id": "9753ff9a",
   "metadata": {},
   "outputs": [
    {
     "name": "stdout",
     "output_type": "stream",
     "text": [
      "['Tell Ur Mom II - Winno (ft Heily)', 'PHI HÀNH GIA - RENJA x SLOW T x LIL WUYN x KAIN x SUGAR CANE', 'Lạc - Rhymastic', 'Nếu mai chia tay ( Hieu Tran Chill RnB Version) - Monstar Ft. Amee', 'LeeHi (이하이) - ONLY', 'GPS - NIDEBIG ft BINQANG , PURR ( PROD : HS YAFU )', 'không phải tại nó // lạc - mai ngô ft rhymastic', '[DCOD] NGTANOISE (Người ta nói - remake) | VSOUL x MFREE x TUYEN VO|', 'Sài Gòn Đâu Có Lạnh - Changg x Lewiuy', 'HIEUTHUHAI - NGHE NHƯ TÌNH YÊU (FELIKS ALVIN REMIX) | HAWYS EDIT', 'Biết em - Lynk Nguyễn', 'Cưa Là Đổ - Phát Hồ X2X (Đại Mèo Remix)', '3107-3 (lofi ver. by VUX) - W/n x Nâu x Duongg x Titie', 'Việt - Hơn Cả Mây Trời (lofi ver by hawys)', 'Orange x Hoàng Dũng - Khi Em Lớn (Lo-fi ver by Hawys)', 'Obito Ft. Hnhngan Live YOUR SMILE - Emma X Seachains X Obito', 'Tell Ur Mom II (Remix)Winno ft Heily', 'Ở NHÀ CHÁN QUÓ (Prod. KanaBeats)', 'Tlinh - Thích Quá Rùi Nà ft. Trung Trần (prod by @rpt.phongkhin )', 'Khi co don em nho ai', 'THANH XUÂN LÀ ANH - N.Dien X 2T f.t Shenlongz', 'DAU CAN MOT BAI CA TINH YEU', 'SOOBIN - THÁNG NĂM (SPECIAL VERSION) FT. SLIM V', 'EM KHONG THE', 'Thay Lòng (Lofi By NH4T) DIMZ x TVk x WindV / Tạm biệt nhé người em yêu ~', 'Lần Hẹn Hò Đầu Tiên + Phố Đã Lên Đèn - Huyền Tâm Môn | Lo-Fi nhà làm', '𝙷𝚊𝚗𝚑 𝚙𝚑𝚞𝚌 𝚋𝚘 𝚛𝚘𝚒 𝚎𝚖_𝚜𝚕𝚘𝚠𝚎𝚍+𝚛𝚎𝚟𝚎𝚛𝚋', 'Kimmese ft JustaTee - Real Love ( Acoustic version ) Prod. by Touliver', 'Người Em Cố Đô - Rum ft Đaa', 'Nếu Anh Thấy Lòng Mình Yếu Đuối - Tùa x CM1X', 'Rapitalove EP| Tay To - RPT MCK x RPT PhongKhin (Prod. by RPT PhongKhin)', 'Obito - LOST (BeeBB Remix)', 'Thức Giấc - Da LAB', 'Loving You Sunny - Kimmese Ft Đen ( Prod.by Touliver & JustaTee )', 'She Neva Knows - Justatee ( Lofi Ver )', 'An Thần - LOW G ft THẮNG ft Gum ( lofi ver by Trạm nhạc lofi 2200s)', '1 Phút - Andiez', '3107 3 và 1 không 2 | W/n x Nâu x Duongg x Titie | Cover by Vũ Ngân Mỹ', '2A - 6 - Cô Đơn Dành Cho Ai Remix', 'Dịu Dàng Yêu - Đào Duy Quý [FREE DOWNLOAD]', 'WREN EVANS - Thích Em Hơi Nhiều', 'Dịu dàng em đến (Lofi) || Erik x Quanvrox', 'Yêu Một Nguời Có Lẽ -=- MIU Le ft LOU Hoang', 'Như Một Người Dưng (Ciray Remix) | Nguyễn Thạc Bảo Ngọc | Từng ngày anh vẫn bên em thế nhưng', 'Chờ Lời Anh Nói - IVY Ft Crou Produce By OrionB Final', 'Có Hẹn Với Thanh Xuân - Monstar', 'fishy ft Trí Dũng - Forget me now', 'Ánh Sao Và Bầu Trời - T.R.I x Cá ( Lofi ver by X. O)', 'nit, sing - ôm em lần cuối | vrt lofi ver.', 'Em Là Hoàng Hôn - Vang x CLoud 5', 'Em 20 - Winno', \"'tim em ko kó một đường nào' - Winno (ft Heily)\", 'Fancy - Winno (prod.aloha)', 'Hai Tám Bốn - Winno', 'K-TLE & CHLLDISH - Redd Ocean', \"mua` xuan^ ma^t' em anh di bo^c' da^u` - Green x Ccmk\", 'How u feel ! K-TLE ft. Young Bo5 (Prod. Chlldish)', 'Bởi vì ai rồi cũng phải lớn khôn (CUZ)  _H$ Mẫn (prod.@soulju)', '\"Dongchenbat\".flp', '𝕮𝖔𝖑𝖔𝖗 𝖁𝖎𝖇𝖊𝖘 01 * Khong Gian Cau - Dewie', 'Lil Thang - pu ekvw Ft Hashone', 'Srry to my ladies + Young Bo5 prod. Icevxz', '𝕮𝖔𝖑𝖔𝖗 𝖁𝖎𝖇𝖊𝖘  02 * Heart Medication - Dewie', 'XANGUTNGAN', 'Dear Teacher - Robe', 'Body High - SMVL X Winno', 'Dạo bước cùng rồng vàng - Winno (SunXiX flip)', 'MONALISA  -  $ICE ft DOBUI', 'Fin - track 2: Khonghoitiec (No regret) [21DAMIXTAPE] (prod by. Origami)', 'Fancy - Winno (slowed + reverb)', 'Timemkoke1linenao * winno rmx *', 'Bốp 2 - Winno (Godthic dissin)', \"'tim em ko kó một đường nào' - Winno, Heily (slowed + reverb)\", 'YungP - RobLucci (prod. $tarr)', 'K-TLE *DERMVE THIEUBONGEM* Ft Winno Prod. Chlldish', '$LIME DELIVERY - Young Bo5, Childlish ft. Lil Benny, Winno (slowed + reverb)', 'III. HBoBlueFire “NON” (zuy, drgflow dissin)', \"Slime Delivery w/Chlldish ' LIL BENNY feat Winno\", 'Quên Đi Em - KhoaLil ft. Skrtturn', 'HURTDAMNPAIN', 'Weedie - Datwassup Solo Ver. (Prod. Iceboi) *MV in description*', 'Bốp - Winno (Reply Zuyngusi)', '-* ISeeU *-', 'G I A I Đ I Ệ U T R O N G T I Ế N G M Ư A | ZECT | PROD.BY LOCKHOME', 'NA$A(Prod. Roko Tensei) - $GK GANG', 'Dmcs5 - Nah (beat produced by Kaddy)', 'Nước (Snippet)', 'TRÔI - Dope B x Sol', 'Trái Đất remix (Ft. Drinkcoca)', 'Young Bo5 + Littgurl -  *Sheis * ( Ft. LVK & Ritdee)', '[TODO] Hoa Vàng -HEiLy ft FanceeBanG & LEMWAI', '[TODOCLAN] HEILY  -  \" TODO XUỐNG PHỐ ĐÔNG \" FT LEMWAI', '☆ PurpleBlood - LEMWAI ☆', 'Lâu Rồi - Ano(Prod. LifeStyleDidIt)', 'Drink (feat Paine)', 'Cold and Lonely (prod. eh beats)*snippet*', 'XOLITXO *CDs maker *snippet*', 'Level Up - Caramelo Ft Riet (Prod. by Mathiastyner)', 'TRAP HOUSE (RMK) - POPBEN, ICY NIRVANA', 'Bounce. (remixbyMoTienSinh)', 'Bounce. (remixbyPinkyMolly777)', 'Heinekens for rainy days - Taylor x Kean (Prod. Flepy)', '03. Hao Xiaolin', \"Coldern Like Itachi w/ XOLITXO ' K-TLE & Chlldish\", 'Lavender Aupi', '[HI-PER] x [HUSTLANG] Tommyʑix - COCOINLOVE & LEMWAI', 'anh chua biet em - 𝓁𝒾𝓊 𝑔𝓇𝒶𝒸𝑒', 'Media Player - Butcher', 'ICY - TRONG VÒNG XOAY (FT SHINOBEE & RAIZFUNK)', 'DEMØ ₩ł₦₦Ø', 'ĐƯA EM ĐI TRÊN CON XE GUÂY - Ccmk , Teddy', 'Noi di Em (feat. K-TLE, Lil Benny & Ozee Kxng)', 'XOLITXO 167. hoa mộc lan', 'HuyTapDizz - Heily aka Cau 2 MidSide', 'adrenaline215 freestyle + young bo5', 'Co$tco - $upreme God X $K', 'Illslick - M Leg Feat.THAIBLOOD', 'FANCY - Winno (prod. aloha)[east mix]', 'Oldie Talk - Robber', 'ENERGY TRAPPIN - NALO, CRAT, ROKI, TO$KA, WINNO | PROD. BY CM1X', 'Bounce - Winno (#PoppinChallenge)', 'CKNMP (Prod. by GC) - The Insiders', 'Bumblr Bee ft. TO$KA', 'TRÁCH ĐỜI VỘI VÃ, TRÁCH MÌNH CUỐN THEO - MIN (CVX)', 'RIEST - TIMELINE (Feat.Bee)', '[Official MP3] Loay Hoay - Sol Ft. P.Shi', 'Làm - Butcher ft Winno (Prod Weedie)', '[TODO CLAN x FUNKER] COLORS - Heily X BigPac X FanceeBang', 'Ta Muốn Thả - Winno', 'HBoBlueFire “ACID“', 'LEMWAI  \" PHAT CO TRUNG KY\"   FT H!GH RICE(aka HeiLy)', 'Nghìn lẽ, một đêm - Winno (prodEast)', 'GOODDAY (prod. by Weedie) - Winno, Nicc, Riet, Hbo /OANG/', 'Moonlight (Prod. by Weedie) - Winno, Hbo, Nicc *MV in description*', 'Tell Ur Mom - Bệu x Winno ( Prod by Ocean Beats )', '12ECEMBER [Prod. by WEEDIE] ft. Lockie, Winno, Hydro, Riet /OANG/', 'Saturday Luv Affair [Prod. by WEEDIE] ft. Riet, Hydro, Winno /OANG/', 'HOMIE - Winno', 'LCKING X WINNO - BACK (Prod.Anh Nguyen)', 'Bê Cálm Đòwn - DanhHuy x Riet x Winno', 'Diss sml Sinike', 'demo thoi khong co gi het', 'Mùa Xuân Cuối Cùng - Riet x Winno x Joe', '[PP x Madsound] Perfect Sound - Winno x Obito', '[DoM x PP] Ông Nội R - Winno ft Slenderizzle & Finnizzle ( BAR dissing )', 'PEFECT PIECES - WINNO x KAIN x UNCLE7 x GAT', 'Em vui đi - Winno', 'LS.G - Lemwai ( Prod.S.U.N)', 'YunMidside - Winno x WarC (Prod Lu)', '[Official] Nói Nhau Nghe - APJ x DaBien x Helia', '[ N2K-G ] GO ! H A R D - Winno x K.EY', 'Demo Winno 1', '[ MP3 ] Relaxing - Vương Lâm x Pjpo', 'TL.SV - NPP akaZ ft. WINNO', '[ FULL Audio ] Be Like Pjpo ( PjposFlow ) - Pjpo x Tempo ( 64O )', 'GOD- Pjpo aka 2P', 'T.T - Pjpo x Ricky Star', 'PEEKABOO - B.T.F.U.', 'Stereoliez, Makla & Vlien Boy - Grind', 'CODE ZERO - RAVE MACHINE', 'ambidextrous', 'Baphomet', 'Eliminate - Snake Bite VIP (VIP)', 'Bailo - Gibberish (BBN Remix)', 'Ilan Bluestone - Spheres (OUT Remix)', 'Vocal Chops Vol.1 - SoundShock', 'Vertebreaker', 'CryJaxx - London Bargain', 'Dasmman - Constellations', 'K-391 & Alan Walker - Ignite (Marin Hoxha & CryJaxx Remix)', 'IK-EY x WHO? - My City', 'How To Make FUTURE BASS Tune In 2 MINUTES! (+ FLP) [100K YouTube Subscribers Gift Vol. 2]', 'Future Bass - SoundShock', '[FREE] Future Vibes Volume 2 - 50 Serum Presets 👻', 'Future Bass for Xfer Serum [Free Multi-Artist Preset Pack]', 'Free Marshmallow Template For Serum (Future Bass Marshmello Style)', 'Free Future House & Bounce Serum Presets &  Samples', '► FUTURE BASS [MASSIVE PRESETS] ► 10 Free Presets!', 'Future Bass Starter Pack | 50 Free Future Bass Serum Presets', 'FRND - Friend (Trung Mix)', 'Rayasa & QuartX - Desi Not Desi (Original mix) (Mayland x Mythical Release)', 'Saynoz - Boom', 'Saynoz - Legitness', 'Hardwell & Quintino - Baldadig (Instrumental Mix) [Free  Download]', 'Bellorum - Alert (Original Bass) [Trap] [EDM FRANCE PREMIERE]', 'W. A. Production & Redhead Roman - FL Studio Mastering Tips (+ 3 Free Mastering Chains)', '200+ FREE Risers, Falls and Effects [See Description]', 'Hardwell & Maddix - ID (UMF 2018 INTRO) [VIPARCO Remake]', 'STVRLØRD & BYPAST - Napalm (TMS Exclusive)', 'MIlano the Don, LUNATIX - GH GH (Andy Alent Remix)*Free Download*', 'SMUG (Original Mix)', 'INSANE TRVP PRESET for Xfer Serum [BUY=FREE DL]', \"I'm fine | WITH VOCALS | Deep Emotional Guitar Rap Beat prod. by HAZY\", 'Antiserum & Diamond Pistols - Swervin', \"Ido B & Zooki and BrainDeaD - Puffin' Marleys [FREE DOWNLOAD]\", 'Jack Ü - Jungle Bae (Jack Ü VIP Edit) ★ Limited Downloads ★', 'CryJaxx - Emperor (feat. Rosendale) w/ Pl4yfields & Anxious', 'CryJaxx - Mah BoyYy', 'Purple Lamborghini - TBA Edit w/ Look At Me Now Acapella', 'Eptic - The End (Carnage & Breaux Remix) [Crankdat VIP] ⚙', 'Future - Mask Off (Acapella & Instrumental) [FREE DOWNLOAD]', 'KVSH - Tokyo Drift', 'Antwan Dago - Kaya (Original mix)', 'MiloMilo X M3B8 - Give it Up (Original Bass)', 'Jungle Love (Original Mix) _ OUT NOW - New Song 2017', 'HOT DRUM', \"Big Shaq - Man's Not Hot (Sad Meal Bootleg Remix)\", 'Los Dutis, Freebot, & Ivan Dola - Cacabomba (Original Mix) [OUT NOW]', 'Lil Pump - Gucci Gang (CRAYDA BOYZ Remix)[FREE DOWNLOAD]']\n",
      "209\n"
     ]
    }
   ],
   "source": [
    "print(tracks)\n",
    "print(len(tracks))"
   ]
  },
  {
   "cell_type": "code",
   "execution_count": 19,
   "id": "873b9c8b",
   "metadata": {},
   "outputs": [],
   "source": [
    "# lùi 1 trang\n",
    "browser.execute_script(\"window.history.go(-1)\")"
   ]
  },
  {
   "cell_type": "code",
   "execution_count": null,
   "id": "1eea58a6",
   "metadata": {},
   "outputs": [],
   "source": []
  }
 ],
 "metadata": {
  "kernelspec": {
   "display_name": "Python 3 (ipykernel)",
   "language": "python",
   "name": "python3"
  },
  "language_info": {
   "codemirror_mode": {
    "name": "ipython",
    "version": 3
   },
   "file_extension": ".py",
   "mimetype": "text/x-python",
   "name": "python",
   "nbconvert_exporter": "python",
   "pygments_lexer": "ipython3",
   "version": "3.8.8"
  }
 },
 "nbformat": 4,
 "nbformat_minor": 5
}
